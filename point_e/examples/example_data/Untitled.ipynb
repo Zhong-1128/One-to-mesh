{
 "cells": [
  {
   "cell_type": "code",
   "execution_count": null,
   "id": "390a4335-52be-4d7b-94af-54490bf4b9b7",
   "metadata": {},
   "outputs": [],
   "source": []
  }
 ],
 "metadata": {
  "kernelspec": {
   "display_name": "Python 3 (ipykernel)",
   "language": "python",
   "name": "python3"
  },
  "language_info": {
   "name": ""
  }
 },
 "nbformat": 4,
 "nbformat_minor": 5
}
